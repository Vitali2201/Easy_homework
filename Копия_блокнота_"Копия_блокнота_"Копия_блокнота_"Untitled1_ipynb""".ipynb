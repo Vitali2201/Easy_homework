{
  "nbformat": 4,
  "nbformat_minor": 0,
  "metadata": {
    "colab": {
      "name": "Копия блокнота \"Копия блокнота \"Копия блокнота \"Untitled1.ipynb\"\"\"",
      "provenance": [],
      "collapsed_sections": [],
      "authorship_tag": "ABX9TyNA5vOK43T3dMrq8sUX/Mby",
      "include_colab_link": true
    },
    "kernelspec": {
      "name": "python3",
      "display_name": "Python 3"
    },
    "language_info": {
      "name": "python"
    }
  },
  "cells": [
    {
      "cell_type": "markdown",
      "metadata": {
        "id": "view-in-github",
        "colab_type": "text"
      },
      "source": [
        "<a href=\"https://colab.research.google.com/github/Vitali2201/Easy_homework/blob/master/%D0%9A%D0%BE%D0%BF%D0%B8%D1%8F_%D0%B1%D0%BB%D0%BE%D0%BA%D0%BD%D0%BE%D1%82%D0%B0_%22%D0%9A%D0%BE%D0%BF%D0%B8%D1%8F_%D0%B1%D0%BB%D0%BE%D0%BA%D0%BD%D0%BE%D1%82%D0%B0_%22%D0%9A%D0%BE%D0%BF%D0%B8%D1%8F_%D0%B1%D0%BB%D0%BE%D0%BA%D0%BD%D0%BE%D1%82%D0%B0_%22Untitled1_ipynb%22%22%22.ipynb\" target=\"_parent\"><img src=\"https://colab.research.google.com/assets/colab-badge.svg\" alt=\"Open In Colab\"/></a>"
      ]
    },
    {
      "cell_type": "markdown",
      "metadata": {
        "id": "iBboZMSxv6Hp"
      },
      "source": [
        "**Домашка**"
      ]
    },
    {
      "cell_type": "code",
      "metadata": {
        "colab": {
          "base_uri": "https://localhost:8080/"
        },
        "id": "HRLe5IkHwLaU",
        "outputId": "939e501a-45cc-4682-d154-785d65d4ba9d"
      },
      "source": [
        "a = input()\n",
        "ch = 0\n",
        "nech = 0\n",
        "\n",
        "for i in a:\n",
        "  if int(i)%2 == 0:\n",
        "    ch+=1\n",
        "  else:\n",
        "    nech+=1\n",
        "print('Четных =',ch)\n",
        "print('Нечетных =',nech)"
      ],
      "execution_count": null,
      "outputs": [
        {
          "output_type": "stream",
          "text": [
            "56984589\n",
            "Четных = 4\n",
            "Нечетных = 4\n"
          ],
          "name": "stdout"
        }
      ]
    },
    {
      "cell_type": "code",
      "metadata": {
        "colab": {
          "base_uri": "https://localhost:8080/"
        },
        "id": "prcnZ4_avz_T",
        "outputId": "eb61ffb1-6975-4b02-e004-a2e491c5e114"
      },
      "source": [
        "coder=input()\n",
        "a = int(coder) % 10\n",
        "b = int(coder) % 100\n",
        "if int(coder) == 0:\n",
        "    print('Здесь нет программистов')\n",
        "elif a == 0 or a >= 5 or 11 <= b <= 19:\n",
        "    print('Здесь', coder, 'программистов')\n",
        "elif a == 1:\n",
        "    print('Здесь', coder, 'программист')\n",
        "else:\n",
        "    print('Здесь', coder, 'программиста')"
      ],
      "execution_count": null,
      "outputs": [
        {
          "output_type": "stream",
          "text": [
            "565\n",
            "Здесь 565 программистов\n"
          ],
          "name": "stdout"
        }
      ]
    },
    {
      "cell_type": "code",
      "metadata": {
        "id": "90CughNGBM8c"
      },
      "source": [
        "v_3 = 0\n",
        "v_5 = 0\n",
        "\n",
        "while v_5 != 4:\n",
        "  print('В 3-х л. ведре: ',v_3,'В 5-ти л. ведре: ',v_5)\n",
        "  a = int(input('Что делаем с ведрами?\\n Выберите одно из значений, где:\\n 5 - заполнить 5-ое ведро,\\n 3 - заполнить 3-ое ведро,\\n -5 - вылить 5-ое ведро,\\n -3 - вылить 3-ое ведро,\\n 35 - перелить из 3-го в 5-ое,\\n 53 - перелить из 5-го в 3-ое:\\n 7 - выход\\n'))\n",
        "  \n",
        "  if a == \"7\":\n",
        "    break\n",
        "  print('Exit')\n",
        "\n",
        "  if a == 5:\n",
        "    v_3 = v_3\n",
        "    v_5 += 5\n",
        "    if v_5 > 5:\n",
        "      v_5 = 5\n",
        "    \n",
        "  elif a == 3:\n",
        "    v_3 += 3\n",
        "    if v_3 > 3:\n",
        "      v_3 = 3\n",
        "    v_5 = v_5\n",
        "    \n",
        "  elif a == -3:\n",
        "    v_3 -= 3\n",
        "    if v_3 < 0:\n",
        "      v_3 = 0\n",
        "    v_5 = v_5\n",
        "    \n",
        "  elif a == -5:\n",
        "    v_5 -= 5\n",
        "    if v_5 < 0:\n",
        "      v_5 = 0\n",
        "    v_3 = v_3\n",
        "    \n",
        "  elif a == 35:\n",
        "    v_5 = v_5 + v_3\n",
        "    if v_5 > 5:\n",
        "      v_3 = v_5 - 5\n",
        "      v_5 = 5\n",
        "    if v_5 < 5:\n",
        "      v_3 = 0\n",
        "      \n",
        "\n",
        "  elif a == 53:\n",
        "    if v_5 >= 3:\n",
        "      v_5 = v_5 - 3 + v_3\n",
        "      v_3 = 3\n",
        "    if v_5 < 3:\n",
        "      v_3 = v_5 + v_3\n",
        "      if v_3 < 3:\n",
        "        v_5 = 0\n",
        "      if v_3 == 3:\n",
        "        v_5 = v_5 - 3 + v_3\n",
        "      \n",
        "  else:\n",
        "    print('Вы ввели некорректное значение')\n",
        "print('Winner')"
      ],
      "execution_count": null,
      "outputs": []
    },
    {
      "cell_type": "code",
      "metadata": {
        "colab": {
          "base_uri": "https://localhost:8080/"
        },
        "id": "PKkKLwsfiWT6",
        "outputId": "21ebbfa5-b0a6-4e3c-ed27-c84a488b9f51"
      },
      "source": [
        "print(now.strftime(\"%X\"))"
      ],
      "execution_count": null,
      "outputs": [
        {
          "output_type": "stream",
          "text": [
            "18:30:15\n"
          ],
          "name": "stdout"
        }
      ]
    },
    {
      "cell_type": "code",
      "metadata": {
        "colab": {
          "base_uri": "https://localhost:8080/"
        },
        "id": "9S_NgfoBkVXx",
        "outputId": "9e07ee7a-5724-4e88-a81b-819142c39d09"
      },
      "source": [
        "now = datetime.datetime.now()\n",
        "print(now)"
      ],
      "execution_count": null,
      "outputs": [
        {
          "output_type": "stream",
          "text": [
            "2021-04-20 19:16:01.495103\n"
          ],
          "name": "stdout"
        }
      ]
    },
    {
      "cell_type": "code",
      "metadata": {
        "id": "uuOi5j_qvq8k"
      },
      "source": [
        "import datetime\n",
        "from datetime import datetime, time\n",
        "\n",
        "h, m = input(), input()\n",
        "if int(h) <= 0 or int(h) >= 24 and int(m) <= 0 or int(m) >= 59:\n",
        "  print(\"Вы ввели неверное время, попробуйте еще раз\")\n",
        "  h, m = input(), input()\n",
        "print(f\"Будильник сработает в\",h,\":\",m)\n",
        "now = datetime.now().strftime(\"%H:%M:%S\")\n",
        "\n",
        "while True:\n",
        "    now = datetime.now().strftime(\"%H:%M:%S\")\n",
        "    print(now,end=\"\\r\")\n",
        "    if datetime.now().strftime(\"%H\") == h and datetime.now().strftime(\"%M\") == m:\n",
        "      print(\"Просыпайся!\")\n",
        "      break\n",
        "    \n",
        "    "
      ],
      "execution_count": null,
      "outputs": []
    },
    {
      "cell_type": "code",
      "metadata": {
        "id": "0cDr957G1sgC"
      },
      "source": [
        "import datetime\n",
        "from datetime import datetime, time, timedelta\n",
        "\n",
        "a = datetime.now()\n",
        "b = datetime.now() + timedelta(minutes=5)\n",
        "b - a\n",
        "datetime.datetime.timedelta()\n",
        "str(b - a)"
      ],
      "execution_count": null,
      "outputs": []
    },
    {
      "cell_type": "markdown",
      "metadata": {
        "id": "a-lRRGlizqq3"
      },
      "source": [
        ""
      ]
    },
    {
      "cell_type": "code",
      "metadata": {
        "id": "7iyO8ogb92qg",
        "colab": {
          "base_uri": "https://localhost:8080/"
        },
        "outputId": "13c4a981-3c01-4698-9387-8ac28903afe2"
      },
      "source": [
        "import random\n",
        "\n",
        "guesses_made = 0\n",
        "\n",
        "name = input('Привет! Как тебя зовут?\\n')\n",
        "\n",
        "number = random.randint(1, 30)\n",
        "print ('Отлично, {0}, я загадал число между 1 и 30. Сможешь угадать?'.format(name))\n",
        "\n",
        "# пока пользователь не превысил число разрешенных попыток - 6\n",
        "while guesses_made < 6:\n",
        "   \n",
        "    # получаем число от пользователя\n",
        "    guess = int(input('Введи число: '))\n",
        "   \n",
        "    # увеличиваем счетчик числа попыток\n",
        "    guesses_made += 1\n",
        "\n",
        "    if guess < number:\n",
        "        print ('Твое число меньше того, что я загадал.')\n",
        "\n",
        "    if guess > number:\n",
        "        print ('Твое число больше загаданного мной.')\n",
        "\n",
        "    if guess == number:\n",
        "        break\n",
        "\n",
        "if guess == number:\n",
        "    print ('Ух ты, {0}! Ты угадал мое число, использовав {1} попыток!'.format(name, guesses_made))\n",
        "else:\n",
        "    print ('А вот и не угадал! Я загадал число {0}'.format(number))"
      ],
      "execution_count": null,
      "outputs": [
        {
          "output_type": "stream",
          "text": [
            "Привет! Как тебя зовут?\n",
            "1235\n",
            "Отлично, 1235, я загадал число между 1 и 30. Сможешь угадать?\n",
            "Введи число: 5\n",
            "Твое число меньше того, что я загадал.\n",
            "Введи число: 15\n",
            "Твое число больше загаданного мной.\n",
            "Введи число: 10\n",
            "Твое число меньше того, что я загадал.\n",
            "Введи число: 13\n",
            "Твое число больше загаданного мной.\n",
            "Введи число: 12\n",
            "Ух ты, 1235! Ты угадал мое число, использовав 5 попыток!\n"
          ],
          "name": "stdout"
        }
      ]
    },
    {
      "cell_type": "markdown",
      "metadata": {
        "id": "8ugqNs6fjbJO"
      },
      "source": [
        "Колатца"
      ]
    },
    {
      "cell_type": "code",
      "metadata": {
        "colab": {
          "base_uri": "https://localhost:8080/"
        },
        "id": "FKRB63NlDgE2",
        "outputId": "9fbf3932-1480-4165-e0e5-c8ad46cdc9be"
      },
      "source": [
        "a = int(input())\n",
        "count = 0\n",
        "while a != 1:\n",
        "  count += 1\n",
        "  if a % 2:\n",
        "    a = a*3 + 1\n",
        "  else:\n",
        "    a = a/2\n",
        "print(count)"
      ],
      "execution_count": null,
      "outputs": [
        {
          "output_type": "stream",
          "text": [
            "837799\n",
            "524\n"
          ],
          "name": "stdout"
        }
      ]
    },
    {
      "cell_type": "markdown",
      "metadata": {
        "id": "pPzGISchjV-l"
      },
      "source": [
        "Колатца"
      ]
    },
    {
      "cell_type": "code",
      "metadata": {
        "colab": {
          "base_uri": "https://localhost:8080/"
        },
        "id": "UwHijuYYGvt1",
        "outputId": "8216afb6-b855-4ac1-d2c7-15ff8fa30c0a"
      },
      "source": [
        "def collatca(a):\n",
        "  count = 0\n",
        "  while a != 1:\n",
        "    count += 1\n",
        "    if a % 2 == 0:\n",
        "      a = a/2\n",
        "    elif a % 2 !=0:\n",
        "      a = a*3 + 1\n",
        "  return count\n",
        "\n",
        "count_max = 0\n",
        "number = 0\n",
        "for i in range(1,1000000):\n",
        "  count = collatca(i)\n",
        "  if count > count_max:\n",
        "    count_max = count\n",
        "    number = i\n",
        "print(number, count_max)  \n",
        "  "
      ],
      "execution_count": null,
      "outputs": [
        {
          "output_type": "stream",
          "text": [
            "837799 524\n"
          ],
          "name": "stdout"
        }
      ]
    },
    {
      "cell_type": "markdown",
      "metadata": {
        "id": "DI7fPvyL2TvK"
      },
      "source": [
        "Фибоначчи"
      ]
    },
    {
      "cell_type": "code",
      "metadata": {
        "id": "udb8tMLFVRc7",
        "colab": {
          "base_uri": "https://localhost:8080/"
        },
        "outputId": "27f43d1b-1a86-4c5e-f5e3-5316f6c1daa6"
      },
      "source": [
        "a = int(input()) \n",
        "f1 = 1\n",
        "f2 = 1\n",
        "count = 2\n",
        "if a <= 2:\n",
        "  print(1)\n",
        "else:\n",
        "  while count < a:\n",
        "    f3 = f2 + f1\n",
        "    f1 = f2\n",
        "    f2 = f3\n",
        "    count += 1\n",
        "  print(f3)"
      ],
      "execution_count": null,
      "outputs": [
        {
          "output_type": "stream",
          "text": [
            "2\n",
            "1\n"
          ],
          "name": "stdout"
        }
      ]
    },
    {
      "cell_type": "markdown",
      "metadata": {
        "id": "Q1sUvzddaPoV"
      },
      "source": [
        "Банкомат"
      ]
    },
    {
      "cell_type": "code",
      "metadata": {
        "id": "ZsiDPLaKaO5X"
      },
      "source": [
        "class ATM:\n",
        "\n",
        "  def __init__(self):\n",
        "    self.pin = '1234'\n",
        "    self.name = name\n",
        "    self.banknote = {\n",
        "        '100': 100,\n",
        "        '50': 100,\n",
        "        '20': 100,\n",
        "        '10': 100,\n",
        "        '5': 100,\n",
        "    }\n",
        "    self.banknote_for_you = {}\n",
        "    self.balance_card = 500\n",
        "\n",
        "  def cash(self, value):\n",
        "    self.balance_card -= value\n",
        "    if value != 0:\n",
        "      for k, v in self.banknote.items():\n",
        "        self.banknote_for_you[k] = value//int(k)\n",
        "        value = value%int(k)\n",
        "        self.banknote[k] -= self.banknote_for_you[k]\n",
        "      return self.banknote_for_you\n",
        "     \n",
        "  def fill(self, value):\n",
        "    self.balance_card += value\n",
        "\n",
        "  # def no_money(self):\n",
        "  #   while self.value > self.balance_card:\n",
        "  #     print('У вас недостаточно средств')\n",
        "  #     break  \n",
        "\n",
        "  # def check_pin(self):\n",
        "  #   pin = input('pin: ')\n",
        "  #   return True if pin == self.pin else False\n"
      ],
      "execution_count": null,
      "outputs": []
    },
    {
      "cell_type": "code",
      "metadata": {
        "id": "gJEJjQUsfLa7"
      },
      "source": [
        "my_acc = ATM()"
      ],
      "execution_count": null,
      "outputs": []
    },
    {
      "cell_type": "code",
      "metadata": {
        "colab": {
          "base_uri": "https://localhost:8080/"
        },
        "id": "92szi2d-B6gf",
        "outputId": "34a2ed1e-d633-43b1-8b46-671f048e7a77"
      },
      "source": [
        "my_acc.cash(1000)"
      ],
      "execution_count": null,
      "outputs": [
        {
          "output_type": "execute_result",
          "data": {
            "text/plain": [
              "{'10': 0, '100': 10, '20': 0, '5': 0, '50': 0}"
            ]
          },
          "metadata": {
            "tags": []
          },
          "execution_count": 92
        }
      ]
    },
    {
      "cell_type": "code",
      "metadata": {
        "colab": {
          "base_uri": "https://localhost:8080/"
        },
        "id": "w_ZT-pQ1fVLq",
        "outputId": "7414cef1-035e-40c7-de17-b66e23c0c364"
      },
      "source": [
        "my_acc.banknote"
      ],
      "execution_count": null,
      "outputs": [
        {
          "output_type": "execute_result",
          "data": {
            "text/plain": [
              "{'10': 100, '100': 87, '20': 100, '5': 100, '50': 99}"
            ]
          },
          "metadata": {
            "tags": []
          },
          "execution_count": 93
        }
      ]
    },
    {
      "cell_type": "code",
      "metadata": {
        "colab": {
          "base_uri": "https://localhost:8080/"
        },
        "id": "AfyGbdDYfggv",
        "outputId": "550462a5-abf9-4f1a-ddb2-eea72f683a63"
      },
      "source": [
        "my_acc.balance_card"
      ],
      "execution_count": null,
      "outputs": [
        {
          "output_type": "execute_result",
          "data": {
            "text/plain": [
              "-850"
            ]
          },
          "metadata": {
            "tags": []
          },
          "execution_count": 94
        }
      ]
    },
    {
      "cell_type": "code",
      "metadata": {
        "id": "X3TGRjgkZ-IP"
      },
      "source": [
        ""
      ],
      "execution_count": null,
      "outputs": []
    },
    {
      "cell_type": "code",
      "metadata": {
        "id": "n89IMcCraAfw"
      },
      "source": [
        "class B:\n",
        "\n",
        "  summa = 100\n",
        "  \n",
        "  @staticmethod\n",
        "  def check_pin():\n",
        "    pin = \"1234\"\n",
        "    pin = input('pin: ')\n",
        "    return True if pin == pin else False\n",
        "\n",
        "  def __init__(self):\n",
        "    self.banknote = {\n",
        "        '100': 100,\n",
        "        '50': 100,\n",
        "        '20': 100,\n",
        "        '10': 100,\n",
        "        '5': 100,\n",
        "    }\n",
        "    self.banknote_for_you = {}\n",
        "    self.balance_card = 500\n",
        "    self.action = {\n",
        "        'fill': self.fill,\n",
        "        'cash': self.cash,\n",
        "    }\n",
        "\n",
        "  def fill(self, value):\n",
        "    self.balance_card += value\n",
        "\n",
        "  def no_money(self, value):\n",
        "    while value > self.balance_card:\n",
        "      print('У вас недостаточно средств')"
      ],
      "execution_count": null,
      "outputs": []
    },
    {
      "cell_type": "code",
      "metadata": {
        "id": "bcY3wigMcGT6"
      },
      "source": [
        "obj = B"
      ],
      "execution_count": null,
      "outputs": []
    },
    {
      "cell_type": "code",
      "metadata": {
        "colab": {
          "base_uri": "https://localhost:8080/"
        },
        "id": "cs2MFw4abX9d",
        "outputId": "ace74724-09d0-4b0f-d3a0-14b77dbe5917"
      },
      "source": [
        "obj.summa"
      ],
      "execution_count": null,
      "outputs": [
        {
          "output_type": "execute_result",
          "data": {
            "text/plain": [
              "100"
            ]
          },
          "metadata": {
            "tags": []
          },
          "execution_count": 17
        }
      ]
    },
    {
      "cell_type": "markdown",
      "metadata": {
        "id": "m6vvkFLngNBv"
      },
      "source": [
        "Обои"
      ]
    },
    {
      "cell_type": "code",
      "metadata": {
        "id": "_P_fFZlwgGvW"
      },
      "source": [
        "import math\n",
        "\n",
        "class WinDoor:\n",
        "     def __init__(self, x, y, name):\n",
        "       self.x = x\n",
        "       self.y = y\n",
        "       self.name = name\n",
        "       self.square = x * y\n",
        "\n",
        "     def __repr__(self):\n",
        "       return f'{self.name} {self.x}x{self.y}'\n",
        "\n",
        "class Room:\n",
        "\n",
        "    def __init__(self, x, y, z):\n",
        "        self.square = 2 * z * (x + y)      \n",
        "        self.wd = []\n",
        "               \n",
        "    def addWD(self, w, h, name):\n",
        "        self.wd.append(WinDoor(w, h, name))\n",
        "           \n",
        "    def workSurface(self):\n",
        "        self.new_square = self.square\n",
        "        for i in self.wd:\n",
        "            self.new_square -= i.square\n",
        "        return self.new_square\n",
        "\n",
        "    def wallpaper(self, l, s):\n",
        "        roll_area = l * s\n",
        "        self.number_rolls = math.ceil(self.new_square/roll_area)\n",
        "        return self.number_rolls\n"
      ],
      "execution_count": null,
      "outputs": []
    },
    {
      "cell_type": "code",
      "metadata": {
        "id": "vLgBqcKAgh6H"
      },
      "source": [
        "room_1 = Room(6, 3, 3)"
      ],
      "execution_count": null,
      "outputs": []
    },
    {
      "cell_type": "code",
      "metadata": {
        "colab": {
          "base_uri": "https://localhost:8080/"
        },
        "id": "zHBGRklHgrP_",
        "outputId": "481ee5c9-7483-446b-9fbb-dcddedd6c1e7"
      },
      "source": [
        "room_1.square"
      ],
      "execution_count": null,
      "outputs": [
        {
          "output_type": "execute_result",
          "data": {
            "text/plain": [
              "54"
            ]
          },
          "metadata": {
            "tags": []
          },
          "execution_count": 92
        }
      ]
    },
    {
      "cell_type": "code",
      "metadata": {
        "id": "Si8PjKwPg74E"
      },
      "source": [
        "room_1.addWD(1.5, 1.5, 'Window')\n",
        "room_1.addWD(1, 2, 'Door')"
      ],
      "execution_count": null,
      "outputs": []
    },
    {
      "cell_type": "code",
      "metadata": {
        "colab": {
          "base_uri": "https://localhost:8080/"
        },
        "id": "N_eX-qlWhNm3",
        "outputId": "6be841ca-a342-43bc-dd32-0e148938537e"
      },
      "source": [
        "room_1.wd"
      ],
      "execution_count": null,
      "outputs": [
        {
          "output_type": "execute_result",
          "data": {
            "text/plain": [
              "[Window 1.5x1.5, Door 1x2]"
            ]
          },
          "metadata": {
            "tags": []
          },
          "execution_count": 94
        }
      ]
    },
    {
      "cell_type": "code",
      "metadata": {
        "colab": {
          "base_uri": "https://localhost:8080/"
        },
        "id": "-uvT-RqEjIm_",
        "outputId": "8dd1386c-d9a5-4d64-ab1a-cbd6f5056647"
      },
      "source": [
        "print(room_1.workSurface())"
      ],
      "execution_count": null,
      "outputs": [
        {
          "output_type": "stream",
          "text": [
            "49.75\n"
          ],
          "name": "stdout"
        }
      ]
    },
    {
      "cell_type": "code",
      "metadata": {
        "colab": {
          "base_uri": "https://localhost:8080/"
        },
        "id": "skCDJz8vii3d",
        "outputId": "c7fd7b4f-e0f0-438b-8cf1-41fcec40e13d"
      },
      "source": [
        "print(room_1.wallpaper(10, 0.5))"
      ],
      "execution_count": null,
      "outputs": [
        {
          "output_type": "stream",
          "text": [
            "10\n"
          ],
          "name": "stdout"
        }
      ]
    },
    {
      "cell_type": "code",
      "metadata": {
        "id": "sllKcg68ueJp"
      },
      "source": [
        "DATABASE = {\n",
        "    'Сергей': 'Омск',\n",
        "    'Соня': 'Москва',\n",
        "    'Миша': 'Москва',\n",
        "    'Дима': 'Челябинск',\n",
        "    'Алина': 'Красноярск',\n",
        "    'Егор': 'Пермь',\n",
        "    'Коля': 'Красноярск'\n",
        "}\n",
        "\n",
        "\n",
        "def format_count_friends(count_friends):\n",
        "    if count_friends == 1:\n",
        "        return '1 друг'\n",
        "    elif 2 <= count_friends <= 4:\n",
        "        return f'{count_friends} друга'\n",
        "    else:\n",
        "        return f'{count_friends} друзей'\n",
        "\n",
        "\n",
        "def process_anfisa(query):\n",
        "    if query == 'сколько у меня друзей?':\n",
        "        count_string = format_count_friends(len(DATABASE))\n",
        "        return f'У тебя {count_string}'\n",
        "    elif query == 'кто все мои друзья?':\n",
        "        friends_string = ', '.join(DATABASE.keys())\n",
        "        return f'Твои друзья: {friends_string}'\n",
        "    elif query == 'где все мои друзья?':\n",
        "        unique_cities = set(DATABASE.values())\n",
        "        cities_string = ', '.join(unique_cities)\n",
        "        return f'Твои друзья в городах: {cities_string}'\n",
        "    else:\n",
        "        return '<неизвестный запрос>'"
      ],
      "execution_count": null,
      "outputs": []
    },
    {
      "cell_type": "code",
      "metadata": {
        "id": "-8jfPgAZukDw",
        "colab": {
          "base_uri": "https://localhost:8080/"
        },
        "outputId": "5dffeff9-62bb-4331-c730-fa472256197b"
      },
      "source": [
        "print(len(DATABASE))"
      ],
      "execution_count": null,
      "outputs": [
        {
          "output_type": "stream",
          "text": [
            "7\n"
          ],
          "name": "stdout"
        }
      ]
    }
  ]
}